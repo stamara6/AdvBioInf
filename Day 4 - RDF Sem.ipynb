{
 "cells": [
  {
   "cell_type": "raw",
   "metadata": {
    "collapsed": false
   },
   "source": [
    "A SPARQL enpoint should be running on this address, you can visit it with your browser and you should see this output:\n",
    "## Count the number of identifiers on chr q through SPARQL\n",
    "## From the VCF file take the crossreferenced idenitfiers, display chr + pos position of the identifier and the chr+pos where the identifier it controls.\n",
    "## Make a unique own query"
   ]
  },
  {
   "cell_type": "code",
   "execution_count": 1,
   "metadata": {
    "collapsed": false
   },
   "outputs": [
    {
     "name": "stdout",
     "output_type": "stream",
     "text": [
      "Not found\r\n",
      "This is a 4store SPARQL server \r\n",
      "Check /status/ for more info\r\n"
     ]
    }
   ],
   "source": [
    "! curl \"http://zero.borm.org:8000\""
   ]
  },
  {
   "cell_type": "markdown",
   "metadata": {
    "collapsed": false
   },
   "source": [
    "import vcf"
   ]
  },
  {
   "cell_type": "markdown",
   "metadata": {
    "collapsed": false
   },
   "source": [
    "# REPLACE pjotr.me with your name!!"
   ]
  },
  {
   "cell_type": "code",
   "execution_count": 3,
   "metadata": {
    "collapsed": false
   },
   "outputs": [
    {
     "name": "stdout",
     "output_type": "stream",
     "text": [
      "@prefix : <http://sem.tamara/rdf/ns#> .\n",
      "\n",
      ":chr1_22848972_C\n",
      "  :query_id \"chr1_22848972_C\" ;\n",
      "  :chr \"1\" ;\n",
      "  :pos \"22848972\" ;\n",
      "  :alt \"C\" .\n",
      ":chr1_33133968_C\n",
      "  :query_id \"chr1_33133968_C\" ;\n",
      "  :chr \"1\" ;\n",
      "  :pos \"33133968\" ;\n",
      "  :alt \"C\" .\n",
      ":chr1_60466814_C\n",
      "  :query_id \"chr1_60466814_C\" ;\n",
      "  :chr \"1\" ;\n",
      "  :pos \"60466814\" ;\n",
      "  :alt \"C\" .\n",
      ":chr1_60466840_T\n",
      "  :query_id \"chr1_60466840_T\" ;\n",
      "  :chr \"1\" ;\n",
      "  :pos \"60466840\" ;\n",
      "  :alt \"T\" .\n",
      ":chr1_62516683_C\n",
      "  :query_id \"chr1_62516683_C\" ;\n",
      "  :chr \"1\" ;\n",
      "  :pos \"62516683\" ;\n",
      "  :alt \"C\" .\n",
      ":chr1_66058513_G\n",
      "  :query_id \"chr1_66058513_G\" ;\n",
      "  :chr \"1\" ;\n",
      "  :pos \"66058513\" ;\n",
      "  :alt \"G\" .\n"
     ]
    }
   ],
   "source": [
    "print(\"@prefix : <http://sem.tamara/rdf/ns#> .\\n\")\n",
    "import vcf \n",
    "\n",
    "vcf_reader = vcf.Reader(open('/home/user/gatk_exome.vcf', 'r'))\n",
    "count=0\n",
    "for record in vcf_reader:\n",
    "    name = \"chr\"+record.CHROM+\"_\"+str(record.POS)+\"_\"+str(record.ALT[0])\n",
    "    print(\":\"+name)\n",
    "    print(\"  :query_id \\\"\"+name+\"\\\" ;\")\n",
    "    print(\"  :chr \\\"\"+record.CHROM+\"\\\" ;\")\n",
    "    print(\"  :pos \\\"\"+str(record.POS)+\"\\\" ;\")\n",
    "    print(\"  :alt \\\"\"+str(record.ALT[0])+\"\\\" .\")\n",
    "    count +=1\n",
    "    if count > 5:\n",
    "        break\n"
   ]
  },
  {
   "cell_type": "markdown",
   "metadata": {
    "collapsed": false
   },
   "source": [
    "### Now write the same to file with samples and a few extra triples"
   ]
  },
  {
   "cell_type": "code",
   "execution_count": 6,
   "metadata": {
    "collapsed": false,
    "scrolled": true
   },
   "outputs": [
    {
     "name": "stderr",
     "output_type": "stream",
     "text": [
      "WARNING: Some output was deleted.\n"
     ]
    }
   ],
   "source": [
    "\n",
    "import vcf\n",
    "\n",
    "buf = \"\"\"\n",
    "@prefix    :   <http://sem.tamara/rdf/ns#> .\n",
    "@prefix rdf:   <http://www.w3.org/1999/02/22-rdf-syntax-ns#> .\n",
    "\n",
    "\"\"\"\n",
    "\n",
    "vcf_reader = vcf.Reader(open('/home/user/gatk_exome.vcf', 'r'))\n",
    "for record in vcf_reader:\n",
    "    name = \"chr\"+record.CHROM+\"_\"+str(record.POS)+\"_\"+str(record.ALT[0])\n",
    "    buf += \":\"+name+\"\\n\"\n",
    "    buf += \"  :variant \\\"\"+name+\"\\\" ;\\n\"\n",
    "    buf += \"  rdf:type :snp ;\\n\"\n",
    "    buf += \"  :chr \\\"\"+record.CHROM+\"\\\" ;\\n\"\n",
    "    buf += \"  :pos \\\"\"+str(record.POS)+\"\\\" ;\\n\"\n",
    "    buf += \"  :alt \\\"\"+str(record.ALT[0])+\"\\\" .\\n\"\n",
    "    for sample in record.samples:\n",
    "        buf += \":\"+name+\"_\"+str(sample.sample)+\"\\n\"\n",
    "        if sample[\"DP\"]:\n",
    "            buf += \"  :dp   \"+str(sample[\"DP\"])+\" ;\\n\"\n",
    "        buf += \"  :vcf :\"+name+\" .\\n\"\n",
    "\n",
    "# Finally we connect a few SNPs\n",
    "\n",
    "buf += \"\"\"\n",
    ":chr1_66058513_G  :controls  :chr1_114354942_G .\n",
    ":chr1_114354942_G :controls  :chr1_144873962_C .\n",
    ":chr1_144873962_C :controls  :chr1_66058513_G .\n",
    ":chr1_144873962_C :controls  :chrX_134713855_A .\n",
    "\"\"\"\n",
    "\n",
    "\n",
    "\n",
    "# Write to file\n",
    "\n",
    "print(buf)\n",
    "f = open(\"test_sem.rdf\",\"w\") # note this file is shared!\n",
    "f.write(buf)\n",
    "\n"
   ]
  },
  {
   "cell_type": "markdown",
   "metadata": {
    "collapsed": false
   },
   "source": [
    "### Validate the file - we can do this in python"
   ]
  },
  {
   "cell_type": "code",
   "execution_count": 7,
   "metadata": {
    "collapsed": false,
    "scrolled": true
   },
   "outputs": [
    {
     "name": "stderr",
     "output_type": "stream",
     "text": [
      "WARNING: Some output was deleted.\n"
     ]
    }
   ],
   "source": [
    "# pip3 install --user rdflib\n",
    "# python3 rdfvalidate.py\n",
    "\n",
    "import rdflib\n",
    "g = rdflib.Graph()\n",
    "\n",
    "result = g.parse('test_sem.rdf', format='n3')\n",
    "print(len(g))\n",
    "for stmt in g:\n",
    "    print(stmt)\n",
    "\n",
    "# You should see something here..."
   ]
  },
  {
   "cell_type": "markdown",
   "metadata": {
    "collapsed": false
   },
   "source": [
    "### Here we upload the data to the database"
   ]
  },
  {
   "cell_type": "code",
   "execution_count": 8,
   "metadata": {
    "collapsed": false,
    "scrolled": true
   },
   "outputs": [
    {
     "name": "stdout",
     "output_type": "stream",
     "text": [
      "http://zero.borm.org:8000/data/http://biobeat.org/sem.tamara/test_sem.rdf\n",
      "<Response [201]>\n"
     ]
    }
   ],
   "source": [
    "# Equivalent of curl -T $rdf -H 'Content-Type: application/x-turtle' $uri\n",
    "import requests\n",
    "\n",
    "myname=\"sem.tamara\" # change to your username\n",
    "rdf=\"test_sem.rdf\" # shared file?!\n",
    "uri=\"http://zero.borm.org:8000/data/http://biobeat.org/\"+myname+\"/\"+rdf\n",
    "headers = {'content-type': 'application/x-turtle'}\n",
    "\n",
    "f = open(rdf)\n",
    "buf = f.read()\n",
    "r = requests.put(uri, data=buf, headers=headers)\n",
    "print(uri)\n",
    "print(r) # should give a 201\n"
   ]
  },
  {
   "cell_type": "markdown",
   "metadata": {
    "collapsed": false
   },
   "source": [
    "### Let's check what is in 4store\n"
   ]
  },
  {
   "cell_type": "code",
   "execution_count": 9,
   "metadata": {
    "collapsed": false
   },
   "outputs": [
    {
     "name": "stdout",
     "output_type": "stream",
     "text": [
      "                       SPARQL httpd server status - size\r\n",
      "\r\n",
      "KB pythoncourse\r\n",
      "\r\n",
      "   Segment # quads (s) quads (sr) models resources\r\n",
      "   0         12584     +0         17     8164\r\n",
      "   1         12411     +0         17     8149\r\n",
      "     Total   24995     +0         17     16313\r\n"
     ]
    }
   ],
   "source": [
    "! lynx --dump zero.borm.org:8000/status/size/"
   ]
  },
  {
   "cell_type": "markdown",
   "metadata": {
    "collapsed": false
   },
   "source": [
    "### And do a first SPARQL query\n"
   ]
  },
  {
   "cell_type": "code",
   "execution_count": 10,
   "metadata": {
    "collapsed": false
   },
   "outputs": [
    {
     "name": "stdout",
     "output_type": "stream",
     "text": [
      "?s\n",
      "<http://zyzhang.me/rdf/ns#chr19_3434413_G>\n",
      "<http://sem.tamara/rdf/ns#chr19_6413578_T>\n",
      "<http://jurrian.me/rdf/ns#chr22_43936228_T>\n",
      "<http://sem.tamara/rdf/ns#chr1_33133968_C>\n",
      "<http://ianthe.me/rdf/ns#chr19_22952111_G>\n",
      "<http://ethel.me/rdf/ns#chr1_66058513_G>\n",
      "<http://tobi.me/rdf/ns#chr16_82033612_C>\n",
      "<http://tobi.me/rdf/ns#chr16_82033612_C>\n",
      "<http://astrid.me/rdf/ns#chr3_122437321_C>\n",
      "<http://emma.me/rdf/ns#chr1_60466814_C>\n",
      "\n"
     ]
    }
   ],
   "source": [
    "\n",
    "end_point = \"http://zero.borm.org:8000/sparql/\"\n",
    "\n",
    "query = \"\"\"\n",
    "PREFIX : <http://sem.tamara/rdf/sem.tamara/ns#>\n",
    "PREFIX rdf:   <http://www.w3.org/1999/02/22-rdf-syntax-ns#>\n",
    "\n",
    "SELECT ?s WHERE {\n",
    "    ?s rdf:type ?o .\n",
    "} LIMIT 10\n",
    "\"\"\"\n",
    "\n",
    "r = requests.post(end_point, data={ \"query\": query, \"output\": \"text\" })\n",
    "# print r.url\n",
    "\n",
    "print(r.text)\n"
   ]
  },
  {
   "cell_type": "code",
   "execution_count": 11,
   "metadata": {
    "collapsed": false
   },
   "outputs": [
    {
     "name": "stdout",
     "output_type": "stream",
     "text": [
      "?numchr1\n",
      "18\n",
      "\n"
     ]
    }
   ],
   "source": [
    "#count number of entries with chromosome 1\n",
    "end_point = \"http://zero.borm.org:8000/sparql/\"\n",
    "\n",
    "query = \"\"\"\n",
    "PREFIX sem: <http://sem.tamara/rdf/ns#>\n",
    "PREFIX rdf:   <http://www.w3.org/1999/02/22-rdf-syntax-ns#>\n",
    "\n",
    "SELECT \n",
    "(COUNT(?chr) AS ?numchr1)\n",
    "WHERE {\n",
    "    \n",
    "    ?chr sem:chr \"1\".\n",
    "     \n",
    "} \n",
    "\"\"\"\n",
    "\n",
    "r = requests.post(end_point, data={ \"query\": query, \"output\": \"text\" })\n",
    "# print r.url\n",
    "\n",
    "print(r.text)\n"
   ]
  },
  {
   "cell_type": "code",
   "execution_count": 12,
   "metadata": {
    "collapsed": false
   },
   "outputs": [
    {
     "name": "stdout",
     "output_type": "stream",
     "text": [
      "?controlled\t?controller\n",
      "<http://sem.tamara/rdf/ns#chr1_144873962_C>\t<http://sem.tamara/rdf/ns#chr1_114354942_G>\n",
      "<http://sem.tamara/rdf/ns#chr1_114354942_G>\t<http://sem.tamara/rdf/ns#chr1_66058513_G>\n",
      "<http://sem.tamara/rdf/ns#chr1_66058513_G>\t<http://sem.tamara/rdf/ns#chr1_144873962_C>\n",
      "<http://sem.tamara/rdf/ns#chrX_134713855_A>\t<http://sem.tamara/rdf/ns#chr1_144873962_C>\n",
      "\n"
     ]
    }
   ],
   "source": [
    "#cross reference query\n",
    "end_point = \"http://zero.borm.org:8000/sparql/\"\n",
    "\n",
    "query = \"\"\"\n",
    "PREFIX sem: <http://sem.tamara/rdf/ns#>\n",
    "PREFIX rdf:   <http://www.w3.org/1999/02/22-rdf-syntax-ns#>\n",
    "\n",
    "SELECT \n",
    "?controlled\n",
    "?controller\n",
    "WHERE {\n",
    "    \n",
    "    \n",
    "    ?controller sem:controls ?controlled.\n",
    "     \n",
    "} \n",
    "\"\"\"\n",
    "\n",
    "r = requests.post(end_point, data={ \"query\": query, \"output\": \"text\" })\n",
    "# print r.url\n",
    "\n",
    "print(r.text)\n"
   ]
  },
  {
   "cell_type": "code",
   "execution_count": 13,
   "metadata": {
    "collapsed": false
   },
   "outputs": [
    {
     "name": "stdout",
     "output_type": "stream",
     "text": [
      "Collecting urllib2\r\n"
     ]
    },
    {
     "name": "stdout",
     "output_type": "stream",
     "text": [
      "\u001b[31m  Could not find a version that satisfies the requirement urllib2 (from versions: )\u001b[0m\r\n"
     ]
    },
    {
     "name": "stdout",
     "output_type": "stream",
     "text": [
      "\u001b[31mNo matching distribution found for urllib2\u001b[0m\r\n"
     ]
    }
   ],
   "source": [
    "!/ext/anaconda3/bin/pip install --user urllib2"
   ]
  },
  {
   "cell_type": "code",
   "execution_count": 26,
   "metadata": {
    "collapsed": false
   },
   "outputs": [
   ],
   "source": [
    "\n",
    "import csv\n",
    "\n",
    "\n",
    "url = 'https://raw.githubusercontent.com/stamara6/AdvBioInf/master/bpe_matched_lowres_final.csv'\n",
    "\n",
    "r = requests.get(url)\n",
    "text = r.iter_lines()\n",
    "reader = csv.reader(text, delimiter=',')\n"
   ]
  },
  {
   "cell_type": "code",
   "execution_count": 64,
   "metadata": {
    "collapsed": false,
    "scrolled": true
   },
   "outputs": [
   ],
   "source": [
    "import pandas as pd\n",
    "data = pd.read_csv('https://raw.githubusercontent.com/stamara6/AdvBioInf/master/bpe_matched_lowres_final.csv')\n",
    "data['matchname'] = data['matchname'].str.replace('>','')"
   ]
  },
  {
   "cell_type": "code",
   "execution_count": 65,
   "metadata": {
    "collapsed": false,
    "scrolled": true
   },
   "outputs": [
    {
     "name": "stderr",
     "output_type": "stream",
     "text": [
      "WARNING: Some output was deleted.\n"
     ]
    }
   ],
   "source": [
    "data"
   ]
  },
  {
   "cell_type": "code",
   "execution_count": 70,
   "metadata": {
    "collapsed": false,
    "scrolled": true
   },
   "outputs": [
    {
     "name": "stdout",
     "output_type": "stream",
     "text": [
      "\n",
      "@prefix    :   <http://sem/rdf/ns#> .\n",
      "@prefix rdf:   <http://www.w3.org/1999/02/22-rdf-syntax-ns#> .\n",
      "\n",
      ":alphaminus0residues2peb\n",
      "  :numpeb \"2\" ;\n",
      "  :ox \"0\" ;\n",
      "  :subunit \"alpha\" .\n",
      ":betaminus0residues3pebMethyl\n",
      "  :numpeb \"3\" ;\n",
      "  :ox \"0\" ;\n",
      "  :subunit \"beta\" .\n",
      ":betaminus0residues3pebMethyl1Ox\n",
      "  :numpeb \"3\" ;\n",
      "  :ox \"1\" ;\n",
      "  :subunit \"beta\" .\n",
      ":betaminus0residues3pebMethyl\n",
      "  :numpeb \"3\" ;\n",
      "  :ox \"0\" ;\n",
      "  :subunit \"beta\" .\n",
      ":betaminus0residues3pebMethyl2Ox\n",
      "  :numpeb \"3\" ;\n",
      "  :ox \"2\" ;\n",
      "  :subunit \"beta\" .\n",
      ":alphaminus0residues1peb\n",
      "  :numpeb \"1\" ;\n",
      "  :ox \"0\" ;\n",
      "  :subunit \"alpha\" .\n",
      ":gamma4minus49residues5peb\n",
      "  :numpeb \"5\" ;\n",
      "  :ox \"0\" ;\n",
      "  :subunit \"gamma4\" .\n",
      ":betaminus0residues3pebMethyl2Ox\n",
      "  :numpeb \"3\" ;\n",
      "  :ox \"2\" ;\n",
      "  :subunit \"beta\" .\n",
      ":gamma4minus50residues5peb\n",
      "  :numpeb \"5\" ;\n",
      "  :ox \"0\" ;\n",
      "  :subunit \"gamma4\" .\n",
      ":gamma4minus48residues5peb\n",
      "  :numpeb \"5\" ;\n",
      "  :ox \"0\" ;\n",
      "  :subunit \"gamma4\" .\n",
      ":alphaminus5residues3peb\n",
      "  :numpeb \"3\" ;\n",
      "  :ox \"0\" ;\n",
      "  :subunit \"alpha\" .\n",
      ":betaminus1residues1peb\n",
      "  :numpeb \"1\" ;\n",
      "  :ox \"0\" ;\n",
      "  :subunit \"beta\" .\n",
      ":betaminus0residues3pebMethyl1Ox\n",
      "  :numpeb \"3\" ;\n",
      "  :ox \"1\" ;\n",
      "  :subunit \"beta\" .\n",
      ":gamma4minus47residues5peb1Ox\n",
      "  :numpeb \"5\" ;\n",
      "  :ox \"1\" ;\n",
      "  :subunit \"gamma4\" .\n",
      ":gamma1minus98residues5peb2Ox\n",
      "  :numpeb \"5\" ;\n",
      "  :ox \"2\" ;\n",
      "  :subunit \"gamma1\" .\n",
      ":gamma1minus98residues5peb1Ox\n",
      "  :numpeb \"5\" ;\n",
      "  :ox \"1\" ;\n",
      "  :subunit \"gamma1\" .\n",
      ":gamma4minus47residues5peb\n",
      "  :numpeb \"5\" ;\n",
      "  :ox \"0\" ;\n",
      "  :subunit \"gamma4\" .\n",
      ":gamma2minus60residues4peb3Ox\n",
      "  :numpeb \"4\" ;\n",
      "  :ox \"3\" ;\n",
      "  :subunit \"gamma2\" .\n",
      ":betaminus1residues1peb\n",
      "  :numpeb \"1\" ;\n",
      "  :ox \"0\" ;\n",
      "  :subunit \"beta\" .\n",
      ":gamma4minus49residues5peb1Ox\n",
      "  :numpeb \"5\" ;\n",
      "  :ox \"1\" ;\n",
      "  :subunit \"gamma4\" .\n",
      ":gamma1minus98residues5peb\n",
      "  :numpeb \"5\" ;\n",
      "  :ox \"0\" ;\n",
      "  :subunit \"gamma1\" .\n",
      ":betaminus6residues4peb3Ox\n",
      "  :numpeb \"4\" ;\n",
      "  :ox \"3\" ;\n",
      "  :subunit \"beta\" .\n",
      ":gamma1minus98residues5peb1Ox\n",
      "  :numpeb \"5\" ;\n",
      "  :ox \"1\" ;\n",
      "  :subunit \"gamma1\" .\n",
      ":gamma4minus45residues5peb3Ox\n",
      "  :numpeb \"5\" ;\n",
      "  :ox \"3\" ;\n",
      "  :subunit \"gamma4\" .\n",
      ":alphaminus0residues2peb3Ox\n",
      "  :numpeb \"2\" ;\n",
      "  :ox \"3\" ;\n",
      "  :subunit \"alpha\" .\n",
      ":gamma2minus62residues5peb1Ox\n",
      "  :numpeb \"5\" ;\n",
      "  :ox \"1\" ;\n",
      "  :subunit \"gamma2\" .\n",
      ":gamma1minus97residues5peb2Ox\n",
      "  :numpeb \"5\" ;\n",
      "  :ox \"2\" ;\n",
      "  :subunit \"gamma1\" .\n",
      ":gamma4minus50residues5peb1Ox\n",
      "  :numpeb \"5\" ;\n",
      "  :ox \"1\" ;\n",
      "  :subunit \"gamma4\" .\n",
      ":gamma2minus60residues4peb2Ox\n",
      "  :numpeb \"4\" ;\n",
      "  :ox \"2\" ;\n",
      "  :subunit \"gamma2\" .\n",
      ":gamma4minus49residues5peb2Ox\n",
      "  :numpeb \"5\" ;\n",
      "  :ox \"2\" ;\n",
      "  :subunit \"gamma4\" .\n",
      ":gamma4minus44residues5peb2Ox\n",
      "  :numpeb \"5\" ;\n",
      "  :ox \"2\" ;\n",
      "  :subunit \"gamma4\" .\n",
      ":gamma1minus98residues5peb3Ox\n",
      "  :numpeb \"5\" ;\n",
      "  :ox \"3\" ;\n",
      "  :subunit \"gamma1\" .\n",
      ":gamma1minus97residues5peb1Ox\n",
      "  :numpeb \"5\" ;\n",
      "  :ox \"1\" ;\n",
      "  :subunit \"gamma1\" .\n",
      ":betaminus5residues4peb3Ox\n",
      "  :numpeb \"4\" ;\n",
      "  :ox \"3\" ;\n",
      "  :subunit \"beta\" .\n",
      ":gamma4minus48residues5peb1Ox\n",
      "  :numpeb \"5\" ;\n",
      "  :ox \"1\" ;\n",
      "  :subunit \"gamma4\" .\n",
      ":gamma1minus100residues2peb2Ox\n",
      "  :numpeb \"2\" ;\n",
      "  :ox \"2\" ;\n",
      "  :subunit \"gamma1\" .\n",
      ":gamma1minus98residues5peb2Ox\n",
      "  :numpeb \"5\" ;\n",
      "  :ox \"2\" ;\n",
      "  :subunit \"gamma1\" .\n",
      ":gamma4minus50residues5peb2Ox\n",
      "  :numpeb \"5\" ;\n",
      "  :ox \"2\" ;\n",
      "  :subunit \"gamma4\" .\n",
      ":gamma4minus47residues5peb2Ox\n",
      "  :numpeb \"5\" ;\n",
      "  :ox \"2\" ;\n",
      "  :subunit \"gamma4\" .\n",
      ":gamma2minus62residues5peb\n",
      "  :numpeb \"5\" ;\n",
      "  :ox \"0\" ;\n",
      "  :subunit \"gamma2\" .\n",
      ":gamma1minus97residues5peb1Ox\n",
      "  :numpeb \"5\" ;\n",
      "  :ox \"1\" ;\n",
      "  :subunit \"gamma1\" .\n",
      ":gamma4minus45residues5peb2Ox\n",
      "  :numpeb \"5\" ;\n",
      "  :ox \"2\" ;\n",
      "  :subunit \"gamma4\" .\n",
      ":gamma1minus97residues5peb\n",
      "  :numpeb \"5\" ;\n",
      "  :ox \"0\" ;\n",
      "  :subunit \"gamma1\" .\n",
      ":gamma4minus48residues5peb2Ox\n",
      "  :numpeb \"5\" ;\n",
      "  :ox \"2\" ;\n",
      "  :subunit \"gamma4\" .\n",
      ":gamma2minus65residues5peb2Ox\n",
      "  :numpeb \"5\" ;\n",
      "  :ox \"2\" ;\n",
      "  :subunit \"gamma2\" .\n",
      ":gamma4minus44residues5peb1Ox\n",
      "  :numpeb \"5\" ;\n",
      "  :ox \"1\" ;\n",
      "  :subunit \"gamma4\" .\n",
      ":betaminus0residues3peb\n",
      "  :numpeb \"3\" ;\n",
      "  :ox \"0\" ;\n",
      "  :subunit \"beta\" .\n",
      ":gamma3minus64residues3peb2Ox\n",
      "  :numpeb \"3\" ;\n",
      "  :ox \"2\" ;\n",
      "  :subunit \"gamma3\" .\n",
      ":gamma4minus47residues5peb3Ox\n",
      "  :numpeb \"5\" ;\n",
      "  :ox \"3\" ;\n",
      "  :subunit \"gamma4\" .\n",
      ":gamma2minus61residues6peb\n",
      "  :numpeb \"6\" ;\n",
      "  :ox \"0\" ;\n",
      "  :subunit \"gamma2\" .\n",
      ":gamma2minus62residues5peb2Ox\n",
      "  :numpeb \"5\" ;\n",
      "  :ox \"2\" ;\n",
      "  :subunit \"gamma2\" .\n",
      ":gamma2minus63residues4peb\n",
      "  :numpeb \"4\" ;\n",
      "  :ox \"0\" ;\n",
      "  :subunit \"gamma2\" .\n",
      ":gamma3minus68residues3peb2Ox\n",
      "  :numpeb \"3\" ;\n",
      "  :ox \"2\" ;\n",
      "  :subunit \"gamma3\" .\n",
      ":gamma3minus65residues3peb2Ox\n",
      "  :numpeb \"3\" ;\n",
      "  :ox \"2\" ;\n",
      "  :subunit \"gamma3\" .\n",
      ":gamma2minus64residues5peb2Ox\n",
      "  :numpeb \"5\" ;\n",
      "  :ox \"2\" ;\n",
      "  :subunit \"gamma2\" .\n",
      ":gamma3minus67residues3peb2Ox\n",
      "  :numpeb \"3\" ;\n",
      "  :ox \"2\" ;\n",
      "  :subunit \"gamma3\" .\n",
      ":gamma2minus59residues3peb\n",
      "  :numpeb \"3\" ;\n",
      "  :ox \"0\" ;\n",
      "  :subunit \"gamma2\" .\n",
      ":gamma3minus64residues3peb1Ox\n",
      "  :numpeb \"3\" ;\n",
      "  :ox \"1\" ;\n",
      "  :subunit \"gamma3\" .\n",
      ":gamma4minus44residues4peb\n",
      "  :numpeb \"4\" ;\n",
      "  :ox \"0\" ;\n",
      "  :subunit \"gamma4\" .\n",
      ":gamma2minus62residues4peb1Ox\n",
      "  :numpeb \"4\" ;\n",
      "  :ox \"1\" ;\n",
      "  :subunit \"gamma2\" .\n",
      ":gamma4minus46residues5peb1Ox\n",
      "  :numpeb \"5\" ;\n",
      "  :ox \"1\" ;\n",
      "  :subunit \"gamma4\" .\n",
      ":gamma2minus62residues3peb1Ox\n",
      "  :numpeb \"3\" ;\n",
      "  :ox \"1\" ;\n",
      "  :subunit \"gamma2\" .\n",
      ":gamma2minus61residues5peb1Ox\n",
      "  :numpeb \"5\" ;\n",
      "  :ox \"1\" ;\n",
      "  :subunit \"gamma2\" .\n",
      ":gamma3minus68residues3peb3Ox\n",
      "  :numpeb \"3\" ;\n",
      "  :ox \"3\" ;\n",
      "  :subunit \"gamma3\" .\n",
      ":gamma4minus49residues5peb1Ox\n",
      "  :numpeb \"5\" ;\n",
      "  :ox \"1\" ;\n",
      "  :subunit \"gamma4\" .\n",
      ":gamma2minus62residues4peb2Ox\n",
      "  :numpeb \"4\" ;\n",
      "  :ox \"2\" ;\n",
      "  :subunit \"gamma2\" .\n",
      ":gamma3minus68residues3peb1Ox\n",
      "  :numpeb \"3\" ;\n",
      "  :ox \"1\" ;\n",
      "  :subunit \"gamma3\" .\n",
      ":gamma2minus62residues5peb\n",
      "  :numpeb \"5\" ;\n",
      "  :ox \"0\" ;\n",
      "  :subunit \"gamma2\" .\n",
      ":gamma2minus62residues4peb2Ox\n",
      "  :numpeb \"4\" ;\n",
      "  :ox \"2\" ;\n",
      "  :subunit \"gamma2\" .\n",
      ":gamma1minus99residues2peb\n",
      "  :numpeb \"2\" ;\n",
      "  :ox \"0\" ;\n",
      "  :subunit \"gamma1\" .\n",
      ":gamma1minus96residues5peb1Ox\n",
      "  :numpeb \"5\" ;\n",
      "  :ox \"1\" ;\n",
      "  :subunit \"gamma1\" .\n",
      ":gamma4minus48residues5peb1Ox\n",
      "  :numpeb \"5\" ;\n",
      "  :ox \"1\" ;\n",
      "  :subunit \"gamma4\" .\n",
      ":gamma3minus67residues3peb1Ox\n",
      "  :numpeb \"3\" ;\n",
      "  :ox \"1\" ;\n",
      "  :subunit \"gamma3\" .\n",
      ":gamma3minus64residues2peb2Ox\n",
      "  :numpeb \"2\" ;\n",
      "  :ox \"2\" ;\n",
      "  :subunit \"gamma3\" .\n",
      ":gamma2minus61residues5peb\n",
      "  :numpeb \"5\" ;\n",
      "  :ox \"0\" ;\n",
      "  :subunit \"gamma2\" .\n",
      ":gamma2minus65residues5peb2Ox\n",
      "  :numpeb \"5\" ;\n",
      "  :ox \"2\" ;\n",
      "  :subunit \"gamma2\" .\n",
      "\n"
     ]
    },
    {
     "data": {
      "text/plain": [
       "6087"
      ]
     },
     "execution_count": 70,
     "metadata": {
     },
     "output_type": "execute_result"
    }
   ],
   "source": [
    "rdf_buf = \"\"\"\n",
    "@prefix    :   <http://sem/rdf/ns#> .\n",
    "@prefix rdf:   <http://www.w3.org/1999/02/22-rdf-syntax-ns#> .\n",
    "\n",
    "\"\"\"\n",
    "\n",
    "for index, row in data.iterrows():\n",
    "    #print(row[\"Average_Mass\"])\n",
    "    name = row[\"matchname\"]\n",
    "    rdf_buf += \":\" + name + \"\\n\"\n",
    "    rdf_buf += \"  :numpeb \\\"\" + str(row[\"numpeb\"])+\"\\\" ;\\n\"\n",
    "    rdf_buf += \"  :ox \\\"\" + str(row[\"ox\"]) +\"\\\" ;\\n\"\n",
    "    rdf_buf += \"  :subunit \\\"\" + row[\"subunit\"] + \"\\\" .\\n\"\n",
    "\n",
    "\n",
    "print(rdf_buf)\n",
    "f = open(\"bpe.rdf\",\"w\")\n",
    "f.write(rdf_buf)\n",
    "\n",
    "\n",
    "\n"
   ]
  },
  {
   "cell_type": "code",
   "execution_count": 71,
   "metadata": {
    "collapsed": false
   },
   "outputs": [
    {
     "name": "stdout",
     "output_type": "stream",
     "text": [
      "http://zero.borm.org:8000/data/http://biobeat.org/sem/bpe.rdf\n",
      "<Response [201]>\n"
     ]
    }
   ],
   "source": [
    "import requests\n",
    "\n",
    "myname=\"sem\"\n",
    "rdf=\"bpe.rdf\"\n",
    "uri=\"http://zero.borm.org:8000/data/http://biobeat.org/\"+myname+\"/\"+rdf\n",
    "headers = {'content-type': 'application/x-turtle'}\n",
    "\n",
    "f = open(rdf)\n",
    "rdf_buf = f.read()\n",
    "r = requests.put(uri, data=rdf_buf, headers=headers)\n",
    "print(uri)\n",
    "print(r) # should give a 201\n"
   ]
  },
  {
   "cell_type": "code",
   "execution_count": 98,
   "metadata": {
    "collapsed": false,
    "scrolled": true
   },
   "outputs": [
    {
     "name": "stdout",
     "output_type": "stream",
     "text": [
      "?subunit\t?numpeb\t?ox\n",
      "\"gamma4\"\t\"5\"\t\"3\"\n",
      "\"gamma2\"\t\"4\"\t\"2\"\n",
      "\"gamma4\"\t\"5\"\t\"2\"\n",
      "\"gamma1\"\t\"5\"\t\"2\"\n",
      "\"gamma4\"\t\"5\"\t\"1\"\n",
      "\"gamma2\"\t\"4\"\t\"2\"\n",
      "\"gamma1\"\t\"5\"\t\"1\"\n",
      "\"gamma4\"\t\"5\"\t\"1\"\n",
      "\"gamma2\"\t\"5\"\t\"0\"\n",
      "\"gamma2\"\t\"3\"\t\"0\"\n",
      "\"gamma4\"\t\"5\"\t\"1\"\n",
      "\"gamma2\"\t\"5\"\t\"2\"\n",
      "\"gamma1\"\t\"5\"\t\"3\"\n",
      "\"gamma3\"\t\"3\"\t\"2\"\n",
      "\"gamma3\"\t\"3\"\t\"3\"\n",
      "\"gamma1\"\t\"5\"\t\"0\"\n",
      "\"gamma2\"\t\"5\"\t\"1\"\n",
      "\"gamma4\"\t\"5\"\t\"1\"\n",
      "\"gamma1\"\t\"2\"\t\"2\"\n",
      "\"gamma4\"\t\"5\"\t\"2\"\n",
      "\"gamma2\"\t\"6\"\t\"0\"\n",
      "\"gamma3\"\t\"3\"\t\"1\"\n",
      "\"gamma4\"\t\"5\"\t\"2\"\n",
      "\"gamma3\"\t\"2\"\t\"2\"\n",
      "\"gamma4\"\t\"4\"\t\"0\"\n",
      "\"gamma4\"\t\"5\"\t\"1\"\n",
      "\"gamma2\"\t\"4\"\t\"3\"\n",
      "\"gamma2\"\t\"5\"\t\"2\"\n",
      "\"gamma4\"\t\"5\"\t\"0\"\n",
      "\"gamma3\"\t\"3\"\t\"2\"\n",
      "\"gamma1\"\t\"5\"\t\"1\"\n",
      "\"gamma2\"\t\"4\"\t\"1\"\n",
      "\"gamma4\"\t\"5\"\t\"0\"\n",
      "\"gamma4\"\t\"5\"\t\"0\"\n",
      "\"gamma3\"\t\"3\"\t\"1\"\n",
      "\"gamma4\"\t\"5\"\t\"2\"\n",
      "\"gamma2\"\t\"3\"\t\"1\"\n",
      "\"gamma4\"\t\"5\"\t\"2\"\n",
      "\"gamma1\"\t\"5\"\t\"0\"\n",
      "\"gamma1\"\t\"5\"\t\"2\"\n",
      "\"gamma2\"\t\"4\"\t\"0\"\n",
      "\"gamma2\"\t\"5\"\t\"1\"\n",
      "\"gamma4\"\t\"5\"\t\"1\"\n",
      "\"gamma1\"\t\"5\"\t\"1\"\n",
      "\"gamma2\"\t\"5\"\t\"0\"\n",
      "\"gamma4\"\t\"5\"\t\"3\"\n",
      "\"gamma3\"\t\"3\"\t\"2\"\n",
      "\"gamma3\"\t\"3\"\t\"1\"\n",
      "\"gamma1\"\t\"2\"\t\"0\"\n",
      "\"gamma2\"\t\"5\"\t\"2\"\n",
      "\"gamma4\"\t\"5\"\t\"2\"\n",
      "\"gamma4\"\t\"5\"\t\"0\"\n",
      "\"gamma3\"\t\"3\"\t\"2\"\n",
      "\n"
     ]
    }
   ],
   "source": [
    "#select only gamma subunits and output number of chromophores and numer of oxidations encountered\n",
    "end_point = \"http://zero.borm.org:8000/sparql/\"\n",
    "\n",
    "query = \"\"\"\n",
    "PREFIX sem: <http://sem/rdf/ns#>\n",
    "PREFIX rdf:   <http://www.w3.org/1999/02/22-rdf-syntax-ns#>\n",
    "\n",
    "SELECT\n",
    "?subunit\n",
    "?numpeb\n",
    "?ox\n",
    "WHERE {\n",
    "        \n",
    "    ?name sem:subunit  ?subunit\n",
    "    FILTER regex(?subunit, \"^gamma\")\n",
    "    \n",
    "    ?name sem:numpeb ?numpeb;\n",
    "     sem:ox ?ox.\n",
    "    \n",
    "} \n",
    "\n",
    "\"\"\"\n",
    "\n",
    "r = requests.post(end_point, data={ \"query\": query, \"output\": \"text\" })\n",
    "# print r.url\n",
    "\n",
    "print(r.text)\n"
   ]
  }
 ],
 "metadata": {
  "kernelspec": {
   "display_name": "Python 3 (Anaconda)",
   "language": "python",
   "name": "anaconda3"
  },
  "language_info": {
   "codemirror_mode": {
    "name": "ipython",
    "version": 3
   },
   "file_extension": ".py",
   "mimetype": "text/x-python",
   "name": "python",
   "nbconvert_exporter": "python",
   "pygments_lexer": "ipython3",
   "version": "3.5.4"
  }
 },
 "nbformat": 4,
 "nbformat_minor": 0
}