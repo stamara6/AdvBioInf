{
 "cells": [
  {
   "cell_type": "code",
   "execution_count": 0,
   "metadata": {
    "collapsed": false
   },
   "outputs": [
   ],
   "source": [
    "#determine shipper with highest value shipped\n",
    "\n",
    "SELECT Shippers.ShipperName, ROUND(SUM(Products.Price)) AS VALUE\n",
    "FROM (((Shippers \n",
    "INNER JOIN Orders ON Shippers.ShipperID = Orders.ShipperID)\n",
    "INNER JOIN OrderDetails ON OrderDetails.OrderID = Orders.OrderID)\n",
    "INNER JOIN Products ON Products.ProductID = OrderDetails.ProductID)\n",
    "GROUP BY ShipperName\n",
    "ORDER BY VALUE DESC;\n",
    "\n",
    "\n"
   ]
  },
  {
   "cell_type": "code",
   "execution_count": 0,
   "metadata": {
    "collapsed": false
   },
   "outputs": [
   ],
   "source": [
    "#JdL: looking to rob someone ;), just kidding\n",
    "#Good join and interesting question\n"
   ]
  }
 ],
 "metadata": {
  "kernelspec": {
   "display_name": "Python 3 (Anaconda)",
   "language": "python",
   "name": "anaconda3"
  },
  "language_info": {
   "codemirror_mode": {
    "name": "ipython",
    "version": 3
   },
   "file_extension": ".py",
   "mimetype": "text/x-python",
   "name": "python",
   "nbconvert_exporter": "python",
   "pygments_lexer": "ipython3",
   "version": "3.5.4"
  }
 },
 "nbformat": 4,
 "nbformat_minor": 0
}